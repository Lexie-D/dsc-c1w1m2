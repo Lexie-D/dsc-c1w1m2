{
  "nbformat": 4,
  "nbformat_minor": 0,
  "metadata": {
    "colab": {
      "provenance": []
    },
    "kernelspec": {
      "name": "python3",
      "display_name": "Python 3"
    },
    "language_info": {
      "name": "python"
    }
  },
  "cells": [
    {
      "cell_type": "markdown",
      "source": [
        "# Practice for Filtering with SQL"
      ],
      "metadata": {
        "id": "PXwDyvgZm1Bp"
      }
    },
    {
      "cell_type": "markdown",
      "source": [
        "Import the germane libraries and connect to the database."
      ],
      "metadata": {
        "id": "6AyxgpxUm559"
      }
    },
    {
      "cell_type": "code",
      "execution_count": null,
      "metadata": {
        "id": "ep8xEDu4laM1"
      },
      "outputs": [],
      "source": [
        "# Run this code\n",
        "\n",
        "import pandas as pd\n",
        "import sqlite3\n",
        "\n",
        "conn = sqlite3.connect('data.sqlite')\n",
        "pd.read_sql(\"\"\"\n",
        "SELECT *\n",
        "  FROM employees;\n",
        "\"\"\", conn)"
      ]
    },
    {
      "cell_type": "markdown",
      "source": [
        "1. Select all of the empployees with first name \"Leslie\""
      ],
      "metadata": {
        "id": "i2oWVwnnnEg7"
      }
    },
    {
      "cell_type": "code",
      "source": [
        "# Fist name Leslie\n",
        "\n"
      ],
      "metadata": {
        "id": "jVUWuD2Jl2hP"
      },
      "execution_count": null,
      "outputs": []
    },
    {
      "cell_type": "markdown",
      "source": [
        "2. For the employees named Leslie, give the first name, last name, and job title."
      ],
      "metadata": {
        "id": "WRIX48WDnSil"
      }
    },
    {
      "cell_type": "code",
      "source": [
        "# First name Leslie, with last name and title\n",
        "\n"
      ],
      "metadata": {
        "id": "ZtnrxTu1mYjb"
      },
      "execution_count": null,
      "outputs": []
    },
    {
      "cell_type": "markdown",
      "source": [
        "3. Select all employees that have a last name less than 5. Using inequalities, do this in two different ways using conditionals."
      ],
      "metadata": {
        "id": "q6dJlJ6xnlSU"
      }
    },
    {
      "cell_type": "code",
      "source": [
        "# Strictly less than 5\n",
        "\n"
      ],
      "metadata": {
        "id": "4BJBzbIkmmDF"
      },
      "execution_count": null,
      "outputs": []
    },
    {
      "cell_type": "code",
      "source": [
        "# Less than or equal to 4.\n",
        "\n"
      ],
      "metadata": {
        "id": "fC8K-DzwoEmv"
      },
      "execution_count": null,
      "outputs": []
    },
    {
      "cell_type": "markdown",
      "source": [
        "Now let's turn to the orderDetails database."
      ],
      "metadata": {
        "id": "XspzHqqMoNsd"
      }
    },
    {
      "cell_type": "code",
      "source": [
        "# Run this code\n",
        "\n",
        "conn = sqlite3.connect('data.sqlite')\n",
        "pd.read_sql(\"\"\"\n",
        "SELECT *\n",
        "  FROM orderDetails;\n",
        "\"\"\", conn)"
      ],
      "metadata": {
        "collapsed": true,
        "id": "UM-cM-pfmvKa"
      },
      "execution_count": null,
      "outputs": []
    },
    {
      "cell_type": "markdown",
      "source": [
        "4. Round the price as an integer"
      ],
      "metadata": {
        "id": "zZUISvJWo010"
      }
    },
    {
      "cell_type": "code",
      "source": [
        "# Rounding price\n"
      ],
      "metadata": {
        "id": "EbFVo7Jwo_mE"
      },
      "execution_count": null,
      "outputs": []
    },
    {
      "cell_type": "markdown",
      "source": [
        "Let's look at the orders database."
      ],
      "metadata": {
        "id": "9utpw758prGf"
      }
    },
    {
      "cell_type": "code",
      "source": [
        "# Run this code\n",
        "\n"
      ],
      "metadata": {
        "id": "wz5CB06epsHR"
      },
      "execution_count": null,
      "outputs": []
    },
    {
      "cell_type": "markdown",
      "source": [
        "5. Find all orders placed in the year 2005 in the orders database."
      ],
      "metadata": {
        "id": "-kbRqtgzpjkC"
      }
    },
    {
      "cell_type": "code",
      "source": [
        "# Just 2005\n",
        "\n"
      ],
      "metadata": {
        "id": "mkmFebsbp7hS"
      },
      "execution_count": null,
      "outputs": []
    },
    {
      "cell_type": "markdown",
      "source": [
        "6. Going back to the employees database, use LIKE to find all of those who have sale or sales in their job title."
      ],
      "metadata": {
        "id": "L9wR6XCwq9pl"
      }
    },
    {
      "cell_type": "code",
      "source": [
        "# Using sales with wildcard\n",
        "\n"
      ],
      "metadata": {
        "id": "mnsXJPOfsW5R"
      },
      "execution_count": null,
      "outputs": []
    },
    {
      "cell_type": "markdown",
      "source": [
        "7. Now find out how many items are priced at least $200 in the orderDetails database."
      ],
      "metadata": {
        "id": "GTB6ME6DsrSo"
      }
    },
    {
      "cell_type": "code",
      "source": [
        "# Count each\n",
        "\n"
      ],
      "metadata": {
        "id": "zqu7pO48sqnA"
      },
      "execution_count": null,
      "outputs": []
    }
  ]
}