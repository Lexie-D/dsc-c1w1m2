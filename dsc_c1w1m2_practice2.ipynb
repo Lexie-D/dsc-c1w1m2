{
  "nbformat": 4,
  "nbformat_minor": 0,
  "metadata": {
    "colab": {
      "provenance": []
    },
    "kernelspec": {
      "name": "python3",
      "display_name": "Python 3"
    },
    "language_info": {
      "name": "python"
    }
  },
  "cells": [
    {
      "cell_type": "markdown",
      "source": [
        "# Practice for Ordering and Limiting Data with SQL"
      ],
      "metadata": {
        "id": "E6nWUanavtch"
      }
    },
    {
      "cell_type": "markdown",
      "source": [
        "Import the germane libraries and connect to the database."
      ],
      "metadata": {
        "id": "l5ghAiaUvxh2"
      }
    },
    {
      "cell_type": "code",
      "execution_count": null,
      "metadata": {
        "id": "bd5SKZw_vn0W"
      },
      "outputs": [],
      "source": [
        "# Run this code\n",
        "\n",
        "import pandas as pd\n",
        "import sqlite3\n",
        "\n",
        "conn = sqlite3.connect('data.sqlite')\n",
        "pd.read_sql(\"\"\"\n",
        "SELECT *\n",
        "  FROM products;\n",
        "\"\"\", conn)"
      ]
    },
    {
      "cell_type": "markdown",
      "source": [
        "1. Begin by ordering the data by product code in descending order."
      ],
      "metadata": {
        "id": "l8bSylAixLpa"
      }
    },
    {
      "cell_type": "code",
      "source": [
        "# Ordering product code\n",
        "\n",
        "\n"
      ],
      "metadata": {
        "id": "kw1lkH0xxYtp"
      },
      "execution_count": null,
      "outputs": []
    },
    {
      "cell_type": "markdown",
      "source": [
        "2. For this query\n",
        "* select the product code, product name, product line, and product vendor\n",
        "* sort by product line and then product name"
      ],
      "metadata": {
        "id": "asjcv2N-x3Ip"
      }
    },
    {
      "cell_type": "code",
      "source": [
        "# Query\n",
        "\n"
      ],
      "metadata": {
        "id": "SXIFan59yg5T"
      },
      "execution_count": null,
      "outputs": []
    },
    {
      "cell_type": "markdown",
      "source": [
        "3. Now count how many distinct product lines there are."
      ],
      "metadata": {
        "id": "qxHLy9cNyv6A"
      }
    },
    {
      "cell_type": "code",
      "source": [
        "# Count\n",
        "\n"
      ],
      "metadata": {
        "id": "k3qZpvI2y7Ty"
      },
      "execution_count": null,
      "outputs": []
    },
    {
      "cell_type": "markdown",
      "source": [
        "4. For this query\n",
        "* select the product name, quantity in stock, the MSRP, the buy price, and find the difference between the MSRP and buy price\n",
        " - Call this difference \"difference\"\n",
        "* Order by the difference from the greatest to the least and then by quantiy in stock from least to greatest"
      ],
      "metadata": {
        "id": "aGAnWbT40NCB"
      }
    },
    {
      "cell_type": "code",
      "source": [
        "# Query\n",
        "\n"
      ],
      "metadata": {
        "id": "ouQo7f0d0W7f"
      },
      "execution_count": null,
      "outputs": []
    },
    {
      "cell_type": "markdown",
      "source": [
        "5. For this query\n",
        "* Select the product name, product line, the MSRP, the buy price\n",
        "* find the difference between the buy price and MSRP, but use the absolute value to make the difference positive\n",
        " - Call this difference \"abs_difference\"\n",
        "* Order by the difference from the greatest to the least\n",
        "* Only select the \"Classic Cars\" product line\n",
        "* limit the results to top 10"
      ],
      "metadata": {
        "id": "zANBKxdu46AR"
      }
    },
    {
      "cell_type": "code",
      "source": [
        "# Query\n",
        "\n"
      ],
      "metadata": {
        "id": "XrL5csAS46-m"
      },
      "execution_count": null,
      "outputs": []
    }
  ]
}
