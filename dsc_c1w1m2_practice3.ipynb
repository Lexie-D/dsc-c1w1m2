{
  "nbformat": 4,
  "nbformat_minor": 0,
  "metadata": {
    "colab": {
      "provenance": []
    },
    "kernelspec": {
      "name": "python3",
      "display_name": "Python 3"
    },
    "language_info": {
      "name": "python"
    }
  },
  "cells": [
    {
      "cell_type": "markdown",
      "source": [
        "# Practice for Grouping Data with SQL"
      ],
      "metadata": {
        "id": "MPfca0_FqjrW"
      }
    },
    {
      "cell_type": "markdown",
      "source": [
        "Import the germane libraries and connect to the database."
      ],
      "metadata": {
        "id": "mKOV_jmCqkRQ"
      }
    },
    {
      "cell_type": "code",
      "execution_count": null,
      "metadata": {
        "id": "UHjuM7psqgYl"
      },
      "outputs": [],
      "source": [
        "# Run this code\n",
        "\n",
        "import pandas as pd\n",
        "import sqlite3\n",
        "\n",
        "conn = sqlite3.connect('data.sqlite')\n",
        "pd.read_sql(\"\"\"\n",
        "SELECT *\n",
        "  FROM products;\n",
        "\"\"\", conn)"
      ]
    },
    {
      "cell_type": "markdown",
      "source": [
        "1. Select the product line\n",
        "*   Count the number of each product line\n",
        "*   Give the count the alias \"count\"\n",
        "*   Sort descending by count"
      ],
      "metadata": {
        "id": "rSH5drrRsLpi"
      }
    },
    {
      "cell_type": "code",
      "source": [
        "# Group by\n"
      ],
      "metadata": {
        "id": "v-nwfSTzshew"
      },
      "execution_count": null,
      "outputs": []
    },
    {
      "cell_type": "markdown",
      "source": [
        "2. Select the product line\n",
        "- Determine the average by Price by product line\n",
        "- Give the average the alias \"avgPrice\"\n",
        "- Sort descending by avgPrice"
      ],
      "metadata": {
        "id": "wIurnFFAuLjj"
      }
    },
    {
      "cell_type": "code",
      "source": [
        "# Group by\n"
      ],
      "metadata": {
        "id": "VrizzOQduuZv"
      },
      "execution_count": null,
      "outputs": []
    },
    {
      "cell_type": "markdown",
      "source": [
        "3. Select the product line\n",
        "- Find the minimum of the MSRP as minMSRP\n",
        "- Find the maximum of the MSRP as maxMSRP"
      ],
      "metadata": {
        "id": "5pv695zRve52"
      }
    },
    {
      "cell_type": "code",
      "source": [
        "# Group by\n"
      ],
      "metadata": {
        "id": "qSMMz21DveJG"
      },
      "execution_count": null,
      "outputs": []
    },
    {
      "cell_type": "markdown",
      "source": [
        "4. Repeat (3), but only select the rows where the MSRP is $50 or more."
      ],
      "metadata": {
        "id": "TxxEZLxEwTmd"
      }
    },
    {
      "cell_type": "code",
      "source": [
        "# Group by & where\n"
      ],
      "metadata": {
        "id": "bkOACABXwS6L"
      },
      "execution_count": null,
      "outputs": []
    },
    {
      "cell_type": "markdown",
      "source": [
        "5. Repeat (2), but only select the product lines with an average price greater than $50.  "
      ],
      "metadata": {
        "id": "zF7BDYt-xxKP"
      }
    },
    {
      "cell_type": "code",
      "source": [
        "# Group by & having\n"
      ],
      "metadata": {
        "id": "gg-Wx_Lmxxf2"
      },
      "execution_count": null,
      "outputs": []
    },
    {
      "cell_type": "markdown",
      "source": [
        "6. Select the product line\n",
        "- Find the average buy price as 'buyPrice' and the average MSRP as 'avgMSRP'\n",
        "- Only select MSRP greater than equal to $50\n",
        "- Only select avgPrice greater than equal to $50\n",
        "- Group by by product line and order by the ascending average price"
      ],
      "metadata": {
        "id": "ABBbnqZczXkn"
      }
    },
    {
      "cell_type": "code",
      "source": [
        "# Group by & where & having\n"
      ],
      "metadata": {
        "id": "NedFaeSizX1E"
      },
      "execution_count": null,
      "outputs": []
    }
  ]
}
